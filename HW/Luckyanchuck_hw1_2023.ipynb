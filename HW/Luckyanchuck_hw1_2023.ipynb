{
  "cells": [
    {
      "cell_type": "markdown",
      "metadata": {
        "id": "5GYwwlTcuJ4m"
      },
      "source": [
        "# HSE 2023: Mathematical Methods for Data Analysis\n",
        "\n",
        "## Homework 1\n",
        "\n",
        "# Luckyanchuk Bogdan BSE-213\n"
      ]
    },
    {
      "cell_type": "markdown",
      "metadata": {
        "id": "2OMoZn7puJ4n"
      },
      "source": [
        "### Attention!\n",
        "* For tasks where <ins>text answer</ins> is required **Russian language** is **allowed**.\n",
        "* If a task asks you to describe something (make conclusions) then **text answer** is **mandatory** and **is** part of the task\n",
        "* **Do not** upload the dataset (titanic.csv) to the grading system (we already have it)\n",
        "* We **only** accept **ipynb** notebooks. If you use Google Colab then you'll have to download the notebook before passing the homework\n",
        "* **Do not** use python loops instead of NumPy vector operations over NumPy vectors - it significantly decreases performance (see why https://blog.paperspace.com/numpy-optimization-vectorization-and-broadcasting/), will be punished with -0.25 for **every** task.\n",
        "Loops are only allowed in part 1 (Tasks 1 - 4).\n",
        "* Some tasks contain tests. They only test your solution on a simple example, thus, passing the test does **not** guarantee you the full grade for the task."
      ]
    },
    {
      "cell_type": "code",
      "execution_count": 7,
      "metadata": {
        "id": "KVxhOZOXuJ4o"
      },
      "outputs": [],
      "source": [
        "%matplotlib inline\n",
        "import numpy as np\n",
        "import pandas as pd\n",
        "import matplotlib.pyplot as plt\n",
        "import seaborn as sns"
      ]
    },
    {
      "cell_type": "markdown",
      "metadata": {
        "id": "U20kQiWSuJ4o"
      },
      "source": [
        "# 1. Python (2 points)"
      ]
    },
    {
      "cell_type": "markdown",
      "metadata": {
        "id": "q6l8_yRXuJ4o"
      },
      "source": [
        "**Task 1** (0.5 points)<br/>\n",
        "Enter nonzero numbers `a`, `d` and `N`. Find the sum of the first `N` members of [harmonic sequence](https://en.wikipedia.org/wiki/Harmonic_progression_(mathematics)) with the first member denominator `a`"
      ]
    },
    {
      "cell_type": "code",
      "execution_count": 3,
      "metadata": {
        "id": "H2VAlE4WuJ4o"
      },
      "outputs": [
        {
          "name": "stdout",
          "output_type": "stream",
          "text": [
            "2.9289682539682538\n"
          ]
        }
      ],
      "source": [
        "def find_sum(a: int, d: int, N: int) -> float:\n",
        "    result = 0\n",
        "    for x in range(N):\n",
        "        result += 1/(a + x*d)\n",
        "    return result\n",
        "\n",
        "a = 1\n",
        "d = 1\n",
        "N = 10\n",
        "print(find_sum(a, d, N))"
      ]
    },
    {
      "cell_type": "markdown",
      "metadata": {
        "id": "FCtV7ud0uJ4p"
      },
      "source": [
        "**Task 2** (0.5 points) <br/>\n",
        "Enter an integer number `N`. Check if it is a palindrome number **without converting it to the string**. It means that it can be read equally from left to right and from right to back."
      ]
    },
    {
      "cell_type": "code",
      "execution_count": 15,
      "metadata": {
        "id": "-7y9eR62uJ4p"
      },
      "outputs": [
        {
          "name": "stdout",
          "output_type": "stream",
          "text": [
            "3 True\n",
            "81 False\n",
            "111 True\n",
            "113 False\n",
            "810 False\n",
            "2022 False\n",
            "4774 True\n",
            "51315 True\n",
            "611816 False\n"
          ]
        }
      ],
      "source": [
        "def check_palindrome(N):\n",
        "    new_number = 0\n",
        "    old_number = N\n",
        "    while old_number != 0:\n",
        "        x = old_number % 10\n",
        "        old_number //= 10\n",
        "        new_number *= 10\n",
        "        new_number += x\n",
        "    return new_number == N\n",
        "\n",
        "\n",
        "for N in [3, 81, 111, 113, 810, 2022, 4774, 51315, 611816]:\n",
        "    print(N, check_palindrome(N))"
      ]
    },
    {
      "cell_type": "markdown",
      "metadata": {
        "id": "MTmGn0IXuJ4p"
      },
      "source": [
        "**Task 3** (0.5 points) <br/>\n",
        "Find the first `N` palindrome numbers starting from 42 (you may use the function from the precious task)."
      ]
    },
    {
      "cell_type": "code",
      "execution_count": 16,
      "metadata": {
        "id": "eWD7K18OuJ4p"
      },
      "outputs": [
        {
          "name": "stdout",
          "output_type": "stream",
          "text": [
            "[44, 55, 66]\n",
            "[44, 55, 66, 77, 88, 99, 101, 111, 121, 131, 141, 151, 161]\n",
            "[44, 55, 66, 77, 88, 99, 101, 111, 121, 131, 141, 151, 161, 171, 181, 191, 202, 212, 222, 232, 242, 252, 262]\n"
          ]
        }
      ],
      "source": [
        "def find_palindromes(N):\n",
        "    i = 42\n",
        "    count = 0\n",
        "    palindromes = []\n",
        "    while count < N:\n",
        "        if (check_palindrome(i)):\n",
        "            palindromes.append(i)\n",
        "            count += 1\n",
        "        i += 1\n",
        "    return palindromes\n",
        "\n",
        "\n",
        "print(find_palindromes(3))\n",
        "print(find_palindromes(13))\n",
        "print(find_palindromes(23))"
      ]
    },
    {
      "cell_type": "markdown",
      "metadata": {
        "id": "xl9sWBMFuJ4p"
      },
      "source": [
        "**Task 4** (0.5 points) <br/>\n",
        "There are numbers: `a`, `b`, `c`. Without using functions `min`, `max` and other functions, find the median number."
      ]
    },
    {
      "cell_type": "code",
      "execution_count": 776,
      "metadata": {
        "id": "STOaXhYbuJ4p"
      },
      "outputs": [
        {
          "name": "stdout",
          "output_type": "stream",
          "text": [
            "-25 49 -86 \tMedian: -25\n",
            "-61 38 56 \tMedian: 38\n",
            "-13 95 -4 \tMedian: -4\n",
            "-40 7 -59 \tMedian: -40\n",
            "-7 45 58 \tMedian: 45\n",
            "-28 16 -14 \tMedian: -14\n",
            "-14 -25 -91 \tMedian: -25\n",
            "-97 -80 93 \tMedian: -80\n",
            "-30 -23 93 \tMedian: -23\n",
            "82 -80 -12 \tMedian: -12\n"
          ]
        }
      ],
      "source": [
        "from random import randint\n",
        "\n",
        "\n",
        "def find_median(a, b, c):\n",
        "    max = a\n",
        "    min = b\n",
        "    if a < b:\n",
        "        min = a\n",
        "        max = b\n",
        "    if c < min:\n",
        "        min = c\n",
        "    if c > max:\n",
        "        max = c\n",
        "    result = a+b+c - min - max\n",
        "    return result\n",
        "\n",
        "\n",
        "for i in range(10):\n",
        "\n",
        "    a = randint(-100, 100)\n",
        "    b = randint(-100, 100)\n",
        "    c = randint(-100, 100)\n",
        "\n",
        "    print(a, b, c, '\\tMedian:', find_median(a, b, c))"
      ]
    },
    {
      "cell_type": "markdown",
      "metadata": {
        "id": "up1L0oApuJ4p"
      },
      "source": [
        "# 2. Numpy (4 points)"
      ]
    },
    {
      "cell_type": "markdown",
      "metadata": {
        "id": "mWVb1DCyuJ4p"
      },
      "source": [
        "**Task 1** (0.5 points) <br/>\n",
        "Create a random array from Gaussian distribution with length of 12 and with sum of its elements equal to 15. Distribution shall be left Gaussian"
      ]
    },
    {
      "cell_type": "code",
      "execution_count": 39,
      "metadata": {
        "id": "r0p7U44VuJ4p"
      },
      "outputs": [
        {
          "name": "stdout",
          "output_type": "stream",
          "text": [
            "Length: 12\n",
            "Sum of elements: 15.000000000000002\n"
          ]
        }
      ],
      "source": [
        "my_array = np.random.normal(0, 1, 12)\n",
        "my_array *= 15/np.sum(my_array)\n",
        "print(f'Length: {len(my_array)}')\n",
        "print(f'Sum of elements: {np.sum(my_array)}')"
      ]
    },
    {
      "cell_type": "markdown",
      "metadata": {
        "id": "k4v47kP0uJ4p"
      },
      "source": [
        "**Task 2** (0.5 points) <br/>\n",
        "Create two random arrays $a$ and $b$ with the same length.\n",
        "\n",
        "Calculate the following distances between the arrays **without using any special function. You may only use basic numpy operations (`np.linalg.*` and other high-level ones are prohibited).**:\n",
        "\n",
        "* Manhattan Distance\n",
        "$$ d(a, b) = \\sum_i |a_i - b_i| $$\n",
        "* Euclidean Distance\n",
        "$$ d(a, b) = \\sqrt{\\sum_i (a_i - b_i)^2} $$\n",
        "* Chebyshev Distance\n",
        "$$ d(a, b) = \\underset{i}{max} |a_i - b_i| $$\n",
        "* Cosine Distance\n",
        "$$ d(a, b) = 1 - \\frac{a^\\top b}{||a||_2\\cdot||b||_2} $$\n"
      ]
    },
    {
      "cell_type": "code",
      "execution_count": 42,
      "metadata": {
        "id": "W3veWp-VuJ4p"
      },
      "outputs": [],
      "source": [
        "def calculate_manhattan(a, b):\n",
        "    result = a - b\n",
        "    result = np.absolute(result)\n",
        "    distance = result.sum()\n",
        "    return distance\n",
        "\n",
        "\n",
        "def calculate_euclidean(a, b):\n",
        "    result = a - b\n",
        "    result = np.power(result, 2)\n",
        "    distance = result.sum()\n",
        "    distance = np.sqrt(distance)\n",
        "    return distance\n",
        "\n",
        "\n",
        "def calculate_chebyshev(a, b):\n",
        "    result = a - b\n",
        "    result = np.absolute(result)\n",
        "    distance = np.max(result)\n",
        "    return distance\n",
        "\n",
        "\n",
        "def calculate_cosine(a, b):\n",
        "    result = np.dot(a, b)\n",
        "    a_dot = np.sqrt(np.dot(a, a))\n",
        "    b_dot = np.sqrt(np.dot(b, b))\n",
        "    distance = 1 - result/(a_dot*b_dot)\n",
        "    return distance"
      ]
    },
    {
      "cell_type": "code",
      "execution_count": 45,
      "metadata": {
        "id": "IbB3TB77uJ4q"
      },
      "outputs": [
        {
          "name": "stdout",
          "output_type": "stream",
          "text": [
            "Manhattan distance: 5727\n",
            "Euclidean distance: 721.070731620692\n",
            "Chebyshev distance: 198\n",
            "Cosine distance: 0.8543441000836242\n"
          ]
        }
      ],
      "source": [
        "a = np.random.randint(low=-100, high=100, size=100)\n",
        "b = np.random.randint(low=-100, high=100, size=100)\n",
        "print(f'Manhattan distance: {calculate_manhattan(a, b)}')\n",
        "print(f'Euclidean distance: {calculate_euclidean(a, b)}')\n",
        "print(f'Chebyshev distance: {calculate_chebyshev(a, b)}')\n",
        "print(f'Cosine distance: {calculate_cosine(a, b)}')"
      ]
    },
    {
      "cell_type": "markdown",
      "metadata": {
        "id": "0inovs_suJ4q"
      },
      "source": [
        "**Task 3** (0.5 points) <br/>\n",
        "Create a random array of integers with length of 42. Transform the array so that\n",
        "* Maximum element(s) value is 10\n",
        "* Minimum element(s) value is -6\n",
        "* Other values are in interval (-6; 10) without changing the relative order (relation $\\frac{x_i}{x_{i-1}}=\\frac{\\widehat{x}_{i}}{\\widehat{x}_{i-1}}$ holds)"
      ]
    },
    {
      "cell_type": "code",
      "execution_count": 46,
      "metadata": {
        "id": "FhoGLR5CuJ4q"
      },
      "outputs": [],
      "source": [
        "def transform(array):\n",
        "    min = -6\n",
        "    max = 10\n",
        "    transformed_array = (array - array.min())/(array.max() - array.min())\n",
        "    transformed_array *= (max - min)\n",
        "    transformed_array += min\n",
        "    return transformed_array"
      ]
    },
    {
      "cell_type": "code",
      "execution_count": 47,
      "metadata": {
        "id": "8BE5MjUMuJ4q"
      },
      "outputs": [
        {
          "name": "stdout",
          "output_type": "stream",
          "text": [
            "Min: -6.0\n",
            "Max: 10.0\n",
            "Array:\n",
            "[ 4.02531646 -0.61603376 -1.89873418  0.43037975 -0.90295359  6.42194093\n",
            " -0.37974684  6.16877637  4.85232068  4.54852321 -2.91139241  3.24894515\n",
            "  1.81434599  8.37974684  4.8185654  -6.          1.52742616  1.8649789\n",
            "  2.75949367 -2.03375527 10.         -4.092827    4.54852321  2.21940928\n",
            "  1.51054852 -5.00421941 -4.17721519  2.84388186  4.24472574 -4.71729958\n",
            " -5.72995781  6.1350211  -2.52320675  3.35021097  5.71308017 -0.9535865\n",
            " 10.         -3.5021097  -0.02531646 -2.23628692  6.82700422  6.4556962 ]\n"
          ]
        }
      ],
      "source": [
        "my_array = np.random.randint(low=1, high=1000, size=42)\n",
        "my_array = transform(my_array)\n",
        "print(f'Min: {np.min(my_array)}')\n",
        "print(f'Max: {np.max(my_array)}')\n",
        "print('Array:')\n",
        "print(my_array)"
      ]
    },
    {
      "cell_type": "markdown",
      "metadata": {
        "id": "2uFda-U_uJ4q"
      },
      "source": [
        "**Task 4** (0.5 points) <br/>\n",
        "Create an array with shape of $10 \\times 3$ with integers from [-12, 4]. Find a column that contains the minimum element of the array."
      ]
    },
    {
      "cell_type": "code",
      "execution_count": 48,
      "metadata": {
        "id": "u4QV7NVIuJ4q"
      },
      "outputs": [
        {
          "name": "stdout",
          "output_type": "stream",
          "text": [
            "Shape:  (10, 3)\n",
            "Array:\n",
            "[[-12  -3  -1]\n",
            " [-11  -5  -4]\n",
            " [ -2   1   3]\n",
            " [-11  -1   1]\n",
            " [ -7   1   3]\n",
            " [ -3   1  -9]\n",
            " [ -2   2   2]\n",
            " [  2  -3   2]\n",
            " [ -8   4  -7]\n",
            " [-11  -1  -8]]\n",
            "Selected column: 0\n"
          ]
        }
      ],
      "source": [
        "my_array = np.random.randint(low=-12, high=5, size=(10, 3))\n",
        "selected_column = np.argmin(my_array) % my_array.shape[1]\n",
        "print('Shape: ', my_array.shape)\n",
        "print('Array:')\n",
        "print(my_array)\n",
        "print(f'Selected column: {selected_column}')"
      ]
    },
    {
      "cell_type": "markdown",
      "metadata": {
        "id": "9ct8lQ4BuJ4q"
      },
      "source": [
        "**Task 5** (0.5 points) <br/>\n",
        "\n",
        "Replace all missing values in the following array with the most appropriate quantile, explain why you chose it."
      ]
    },
    {
      "cell_type": "code",
      "execution_count": 386,
      "metadata": {
        "id": "RJ-6HPUQuJ4q"
      },
      "outputs": [
        {
          "name": "stdout",
          "output_type": "stream",
          "text": [
            "Array:\n",
            "[0.50611664 0.34174775 0.87407692 0.87802138 0.44415094        nan\n",
            "        nan 0.88599629        nan        nan]\n"
          ]
        }
      ],
      "source": [
        "arr = np.random.rand(10)\n",
        "idx = np.random.randint(0, 10, 4)\n",
        "arr[idx] = np.nan\n",
        "\n",
        "print('Array:')\n",
        "print(arr)"
      ]
    },
    {
      "cell_type": "code",
      "execution_count": 495,
      "metadata": {
        "id": "wZV63ohyuJ4q"
      },
      "outputs": [],
      "source": [
        "def replace_missing(arr):\n",
        "    mediana = np.nanmedian(arr)\n",
        "    arr[np.isnan(arr)] = mediana\n",
        "    array_without_missing = arr\n",
        "    print('Median: ', mediana)\n",
        "    return array_without_missing"
      ]
    },
    {
      "cell_type": "code",
      "execution_count": 496,
      "metadata": {
        "id": "_hG2tbcPuJ4q"
      },
      "outputs": [
        {
          "name": "stdout",
          "output_type": "stream",
          "text": [
            "Median:  0.6900967815830863\n",
            "Array with no missing values:\n",
            "[0.50611664 0.34174775 0.87407692 0.87802138 0.44415094 0.69009678\n",
            " 0.69009678 0.88599629 0.69009678 0.69009678]\n",
            "[5 6 9 8]\n"
          ]
        }
      ],
      "source": [
        "arr = replace_missing(arr)\n",
        "print('Array with no missing values:')\n",
        "print(arr)\n",
        "print(idx)"
      ]
    },
    {
      "cell_type": "markdown",
      "metadata": {
        "id": "eacEv4K39AAp"
      },
      "source": [
        "**Answer:** here"
      ]
    },
    {
      "cell_type": "markdown",
      "metadata": {
        "id": "HX2x-qUEuJ4q"
      },
      "source": [
        "**Task 6** (0.5 points) <br/>\n",
        "Create a function which takes an image ```X``` (3D array of the shape (n, m, 3)) as an input and returns the median and std for every channel (you should get a vector of shape 3, RGB)."
      ]
    },
    {
      "cell_type": "code",
      "execution_count": 52,
      "metadata": {
        "id": "pbdP4x4AuJ4q"
      },
      "outputs": [],
      "source": [
        "def stats_channel(X):\n",
        "    mediana = ([np.median(X[:, :, 0]), np.median(\n",
        "        X[:, :, 1]), np.median(X[:, :, 2])])\n",
        "    std = ([np.std(X[:, :, 0]), np.std(X[:, :, 1]), np.std(X[:, :, 2])])\n",
        "    return mediana, std"
      ]
    },
    {
      "cell_type": "code",
      "execution_count": 53,
      "metadata": {
        "id": "hucX0ybWuJ4q"
      },
      "outputs": [
        {
          "name": "stdout",
          "output_type": "stream",
          "text": [
            "([-2.0, -1.0, -2.0], [5.560707592520229, 5.650216913542807, 5.453638973184836])\n"
          ]
        }
      ],
      "source": [
        "n = 19\n",
        "m = 23\n",
        "\n",
        "X = np.random.randint(-11, 8, size=(n, m, 3))\n",
        "print(stats_channel(X))"
      ]
    },
    {
      "cell_type": "markdown",
      "metadata": {
        "id": "0Pg2nDCxuJ4q"
      },
      "source": [
        "### **Task 7** (1 points) <br/>\n",
        "Create a function which takes a 3D matrix ```X``` as an input and returns all its unique values along the first axis.\n",
        "\n",
        "Sample input:\n",
        "\n",
        "```\n",
        "np.array(\n",
        "  [[[1, 2, 3],\n",
        "    [1, 2, 3],\n",
        "    [1, 2, 3]],\n",
        "\n",
        "   [[4, 5, 6],\n",
        "    [4, 5, 7],\n",
        "    [4, 5, 6]],\n",
        "\n",
        "   [[7, 8, 9],\n",
        "    [7, 8, 9],\n",
        "    [7, 8, 9]]]\n",
        ")\n",
        "```\n",
        "  \n",
        "Sample output:\n",
        "\n",
        "```\n",
        "np.array(\n",
        "  [[[1, 2, 3],\n",
        "    [1, 2, 3]],\n",
        "\n",
        "   [[4, 5, 6],\n",
        "    [4, 5, 7]],\n",
        "\n",
        "   [[7, 8, 9],\n",
        "    [7, 8, 9]]]\n",
        ")\n",
        "```"
      ]
    },
    {
      "cell_type": "code",
      "execution_count": 54,
      "metadata": {
        "id": "YdsrT0G8uJ4q"
      },
      "outputs": [],
      "source": [
        "def get_unique_values(X):\n",
        "    result = np.unique(X, axis=1)\n",
        "    return result"
      ]
    },
    {
      "cell_type": "code",
      "execution_count": 55,
      "metadata": {
        "id": "UNvyiySzuJ4q"
      },
      "outputs": [
        {
          "name": "stdout",
          "output_type": "stream",
          "text": [
            "Matrix:\n",
            "[[[5 5 5]\n",
            "  [4 5 5]\n",
            "  [5 4 4]]\n",
            "\n",
            " [[4 5 4]\n",
            "  [5 5 4]\n",
            "  [4 5 4]]\n",
            "\n",
            " [[4 4 4]\n",
            "  [4 4 4]\n",
            "  [5 4 4]]\n",
            "\n",
            " [[4 4 5]\n",
            "  [5 5 4]\n",
            "  [4 4 4]]\n",
            "\n",
            " [[5 4 4]\n",
            "  [4 5 5]\n",
            "  [4 5 4]]\n",
            "\n",
            " [[5 4 5]\n",
            "  [4 5 4]\n",
            "  [4 4 4]]\n",
            "\n",
            " [[5 5 4]\n",
            "  [4 5 4]\n",
            "  [5 4 5]]\n",
            "\n",
            " [[4 4 4]\n",
            "  [5 5 4]\n",
            "  [4 4 4]]\n",
            "\n",
            " [[5 5 4]\n",
            "  [4 5 5]\n",
            "  [5 5 4]]\n",
            "\n",
            " [[5 5 4]\n",
            "  [5 4 5]\n",
            "  [5 4 5]]\n",
            "\n",
            " [[5 4 4]\n",
            "  [4 4 4]\n",
            "  [4 4 5]]\n",
            "\n",
            " [[5 5 4]\n",
            "  [5 5 4]\n",
            "  [5 4 5]]\n",
            "\n",
            " [[4 5 4]\n",
            "  [4 4 5]\n",
            "  [4 4 4]]\n",
            "\n",
            " [[5 5 5]\n",
            "  [5 4 5]\n",
            "  [5 5 5]]\n",
            "\n",
            " [[4 4 4]\n",
            "  [4 4 4]\n",
            "  [5 4 5]]\n",
            "\n",
            " [[5 4 5]\n",
            "  [5 5 4]\n",
            "  [5 5 5]]\n",
            "\n",
            " [[4 4 4]\n",
            "  [5 4 4]\n",
            "  [4 4 5]]\n",
            "\n",
            " [[4 4 5]\n",
            "  [5 5 5]\n",
            "  [4 5 5]]\n",
            "\n",
            " [[5 5 5]\n",
            "  [5 5 5]\n",
            "  [4 5 5]]\n",
            "\n",
            " [[5 4 4]\n",
            "  [4 5 4]\n",
            "  [5 5 4]]]\n",
            "Unique :\n"
          ]
        },
        {
          "data": {
            "text/plain": [
              "array([[[4, 5, 5],\n",
              "        [5, 4, 4],\n",
              "        [5, 5, 5]],\n",
              "\n",
              "       [[5, 5, 4],\n",
              "        [4, 5, 4],\n",
              "        [4, 5, 4]],\n",
              "\n",
              "       [[4, 4, 4],\n",
              "        [5, 4, 4],\n",
              "        [4, 4, 4]],\n",
              "\n",
              "       [[5, 5, 4],\n",
              "        [4, 4, 4],\n",
              "        [4, 4, 5]],\n",
              "\n",
              "       [[4, 5, 5],\n",
              "        [4, 5, 4],\n",
              "        [5, 4, 4]],\n",
              "\n",
              "       [[4, 5, 4],\n",
              "        [4, 4, 4],\n",
              "        [5, 4, 5]],\n",
              "\n",
              "       [[4, 5, 4],\n",
              "        [5, 4, 5],\n",
              "        [5, 5, 4]],\n",
              "\n",
              "       [[5, 5, 4],\n",
              "        [4, 4, 4],\n",
              "        [4, 4, 4]],\n",
              "\n",
              "       [[4, 5, 5],\n",
              "        [5, 5, 4],\n",
              "        [5, 5, 4]],\n",
              "\n",
              "       [[5, 4, 5],\n",
              "        [5, 4, 5],\n",
              "        [5, 5, 4]],\n",
              "\n",
              "       [[4, 4, 4],\n",
              "        [4, 4, 5],\n",
              "        [5, 4, 4]],\n",
              "\n",
              "       [[5, 5, 4],\n",
              "        [5, 4, 5],\n",
              "        [5, 5, 4]],\n",
              "\n",
              "       [[4, 4, 5],\n",
              "        [4, 4, 4],\n",
              "        [4, 5, 4]],\n",
              "\n",
              "       [[5, 4, 5],\n",
              "        [5, 5, 5],\n",
              "        [5, 5, 5]],\n",
              "\n",
              "       [[4, 4, 4],\n",
              "        [5, 4, 5],\n",
              "        [4, 4, 4]],\n",
              "\n",
              "       [[5, 5, 4],\n",
              "        [5, 5, 5],\n",
              "        [5, 4, 5]],\n",
              "\n",
              "       [[5, 4, 4],\n",
              "        [4, 4, 5],\n",
              "        [4, 4, 4]],\n",
              "\n",
              "       [[5, 5, 5],\n",
              "        [4, 5, 5],\n",
              "        [4, 4, 5]],\n",
              "\n",
              "       [[5, 5, 5],\n",
              "        [4, 5, 5],\n",
              "        [5, 5, 5]],\n",
              "\n",
              "       [[4, 5, 4],\n",
              "        [5, 5, 4],\n",
              "        [5, 4, 4]]])"
            ]
          },
          "execution_count": 55,
          "metadata": {},
          "output_type": "execute_result"
        }
      ],
      "source": [
        "n = 20\n",
        "X = np.random.randint(4, 6, size=(n, 3, 3))\n",
        "print('Matrix:',)\n",
        "print(X)\n",
        "print('Unique :')\n",
        "get_unique_values(X)"
      ]
    },
    {
      "cell_type": "markdown",
      "metadata": {
        "id": "W135mraVuJ4r"
      },
      "source": [
        "# 3. Pandas & Visualization (4 points)\n"
      ]
    },
    {
      "cell_type": "markdown",
      "metadata": {
        "id": "_UfaIXGcuJ4r"
      },
      "source": [
        "You are going to work with *Titanic* dataset which contains information about passengers of Titanic:\n",
        "- **Survived** - 1 - survived, 0 - died (0); **Target variable**\n",
        "- **pclass** - passengers's class;\n",
        "- **sex** - passengers's sex\n",
        "- **Age** - passengers's age in years\n",
        "- **sibsp**    - is the passenger someones siblings   \n",
        "- **parch**    - is the passenger someones child or parent\n",
        "- **ticket** - ticket number    \n",
        "- **fare** - ticket price    \n",
        "- **cabin** - cabin number\n",
        "- **embarked** - port of Embarkation; C = Cherbourg, Q = Queenstown, S = Southampton\n",
        "\n",
        "**Note** for all visualizations use matplotlib or seaborn but NOT plotly! Plotly's graphics sometimes vanish after saving. In this case the task won't be graded.\n",
        "\n",
        "**Note** support all your answers with necessary code, computations, vizualization, and explanation. Answers without code and explanation won't be graded.\n",
        "\n",
        "**Task 0** (0 points) \\\n",
        "Load the dataset and print first 6 rows"
      ]
    },
    {
      "cell_type": "code",
      "execution_count": 9,
      "metadata": {
        "id": "92IDku0HuJ4r"
      },
      "outputs": [
        {
          "data": {
            "text/html": [
              "<div>\n",
              "<style scoped>\n",
              "    .dataframe tbody tr th:only-of-type {\n",
              "        vertical-align: middle;\n",
              "    }\n",
              "\n",
              "    .dataframe tbody tr th {\n",
              "        vertical-align: top;\n",
              "    }\n",
              "\n",
              "    .dataframe thead th {\n",
              "        text-align: right;\n",
              "    }\n",
              "</style>\n",
              "<table border=\"1\" class=\"dataframe\">\n",
              "  <thead>\n",
              "    <tr style=\"text-align: right;\">\n",
              "      <th></th>\n",
              "      <th>Survived</th>\n",
              "      <th>Pclass</th>\n",
              "      <th>Name</th>\n",
              "      <th>Sex</th>\n",
              "      <th>Age</th>\n",
              "      <th>SibSp</th>\n",
              "      <th>Parch</th>\n",
              "      <th>Ticket</th>\n",
              "      <th>Fare</th>\n",
              "      <th>Cabin</th>\n",
              "      <th>Embarked</th>\n",
              "    </tr>\n",
              "    <tr>\n",
              "      <th>PassengerId</th>\n",
              "      <th></th>\n",
              "      <th></th>\n",
              "      <th></th>\n",
              "      <th></th>\n",
              "      <th></th>\n",
              "      <th></th>\n",
              "      <th></th>\n",
              "      <th></th>\n",
              "      <th></th>\n",
              "      <th></th>\n",
              "      <th></th>\n",
              "    </tr>\n",
              "  </thead>\n",
              "  <tbody>\n",
              "    <tr>\n",
              "      <th>1</th>\n",
              "      <td>0</td>\n",
              "      <td>3</td>\n",
              "      <td>Braund, Mr. Owen Harris</td>\n",
              "      <td>male</td>\n",
              "      <td>22.0</td>\n",
              "      <td>1</td>\n",
              "      <td>0</td>\n",
              "      <td>A/5 21171</td>\n",
              "      <td>7.2500</td>\n",
              "      <td>NaN</td>\n",
              "      <td>S</td>\n",
              "    </tr>\n",
              "    <tr>\n",
              "      <th>2</th>\n",
              "      <td>1</td>\n",
              "      <td>1</td>\n",
              "      <td>Cumings, Mrs. John Bradley (Florence Briggs Th...</td>\n",
              "      <td>female</td>\n",
              "      <td>38.0</td>\n",
              "      <td>1</td>\n",
              "      <td>0</td>\n",
              "      <td>PC 17599</td>\n",
              "      <td>71.2833</td>\n",
              "      <td>C85</td>\n",
              "      <td>C</td>\n",
              "    </tr>\n",
              "    <tr>\n",
              "      <th>3</th>\n",
              "      <td>1</td>\n",
              "      <td>3</td>\n",
              "      <td>Heikkinen, Miss. Laina</td>\n",
              "      <td>female</td>\n",
              "      <td>26.0</td>\n",
              "      <td>0</td>\n",
              "      <td>0</td>\n",
              "      <td>STON/O2. 3101282</td>\n",
              "      <td>7.9250</td>\n",
              "      <td>NaN</td>\n",
              "      <td>S</td>\n",
              "    </tr>\n",
              "    <tr>\n",
              "      <th>4</th>\n",
              "      <td>1</td>\n",
              "      <td>1</td>\n",
              "      <td>Futrelle, Mrs. Jacques Heath (Lily May Peel)</td>\n",
              "      <td>female</td>\n",
              "      <td>35.0</td>\n",
              "      <td>1</td>\n",
              "      <td>0</td>\n",
              "      <td>113803</td>\n",
              "      <td>53.1000</td>\n",
              "      <td>C123</td>\n",
              "      <td>S</td>\n",
              "    </tr>\n",
              "    <tr>\n",
              "      <th>5</th>\n",
              "      <td>0</td>\n",
              "      <td>3</td>\n",
              "      <td>Allen, Mr. William Henry</td>\n",
              "      <td>male</td>\n",
              "      <td>35.0</td>\n",
              "      <td>0</td>\n",
              "      <td>0</td>\n",
              "      <td>373450</td>\n",
              "      <td>8.0500</td>\n",
              "      <td>NaN</td>\n",
              "      <td>S</td>\n",
              "    </tr>\n",
              "    <tr>\n",
              "      <th>6</th>\n",
              "      <td>0</td>\n",
              "      <td>3</td>\n",
              "      <td>Moran, Mr. James</td>\n",
              "      <td>male</td>\n",
              "      <td>NaN</td>\n",
              "      <td>0</td>\n",
              "      <td>0</td>\n",
              "      <td>330877</td>\n",
              "      <td>8.4583</td>\n",
              "      <td>NaN</td>\n",
              "      <td>Q</td>\n",
              "    </tr>\n",
              "  </tbody>\n",
              "</table>\n",
              "</div>"
            ],
            "text/plain": [
              "             Survived  Pclass  \\\n",
              "PassengerId                     \n",
              "1                   0       3   \n",
              "2                   1       1   \n",
              "3                   1       3   \n",
              "4                   1       1   \n",
              "5                   0       3   \n",
              "6                   0       3   \n",
              "\n",
              "                                                          Name     Sex   Age  \\\n",
              "PassengerId                                                                    \n",
              "1                                      Braund, Mr. Owen Harris    male  22.0   \n",
              "2            Cumings, Mrs. John Bradley (Florence Briggs Th...  female  38.0   \n",
              "3                                       Heikkinen, Miss. Laina  female  26.0   \n",
              "4                 Futrelle, Mrs. Jacques Heath (Lily May Peel)  female  35.0   \n",
              "5                                     Allen, Mr. William Henry    male  35.0   \n",
              "6                                             Moran, Mr. James    male   NaN   \n",
              "\n",
              "             SibSp  Parch            Ticket     Fare Cabin Embarked  \n",
              "PassengerId                                                          \n",
              "1                1      0         A/5 21171   7.2500   NaN        S  \n",
              "2                1      0          PC 17599  71.2833   C85        C  \n",
              "3                0      0  STON/O2. 3101282   7.9250   NaN        S  \n",
              "4                1      0            113803  53.1000  C123        S  \n",
              "5                0      0            373450   8.0500   NaN        S  \n",
              "6                0      0            330877   8.4583   NaN        Q  "
            ]
          },
          "execution_count": 9,
          "metadata": {},
          "output_type": "execute_result"
        }
      ],
      "source": [
        "dataset = pd.read_csv('titanic.csv', index_col=0)\n",
        "dataset.head(6)"
      ]
    },
    {
      "cell_type": "markdown",
      "metadata": {
        "id": "0FeAHgZtuJ4r"
      },
      "source": [
        "**Task 1** (1 points) <br/>\n",
        "Answer the following questions:\n",
        "    \n",
        "    * Are there any missing values? In what columns?\n",
        "    * What is the percentage of survived passengers? Are the classes balanced?\n",
        "    * Were there more males or females?\n",
        "    * What what the least popular port of embarkation?\n",
        "    * How many passenger classes (pclass) were there on Tinanic?\n",
        "    * What is the overall average ticket fare? And for every passenger class?\n",
        "Please, write not only the answers but the code, proving it."
      ]
    },
    {
      "cell_type": "markdown",
      "metadata": {},
      "source": [
        "В столбцах Age, Cabin, Embarked есть пропущенные значения."
      ]
    },
    {
      "cell_type": "code",
      "execution_count": 56,
      "metadata": {
        "id": "4PizO86UuJ4r"
      },
      "outputs": [
        {
          "data": {
            "text/plain": [
              "Survived    False\n",
              "Pclass      False\n",
              "Name        False\n",
              "Sex         False\n",
              "Age          True\n",
              "SibSp       False\n",
              "Parch       False\n",
              "Ticket      False\n",
              "Fare        False\n",
              "Cabin        True\n",
              "Embarked     True\n",
              "dtype: bool"
            ]
          },
          "execution_count": 56,
          "metadata": {},
          "output_type": "execute_result"
        }
      ],
      "source": [
        "dataset.isna().any()"
      ]
    },
    {
      "cell_type": "markdown",
      "metadata": {},
      "source": [
        "Процент выживших пассжиров составляет ≈ 38%, процент погибших ≈ 62%. Следовательно, классы не сбаланcированы."
      ]
    },
    {
      "cell_type": "code",
      "execution_count": 57,
      "metadata": {},
      "outputs": [
        {
          "name": "stdout",
          "output_type": "stream",
          "text": [
            "Percentage of survived passengers: 38.0%\n",
            "Percentage of died passengers: 62.0%\n"
          ]
        }
      ],
      "source": [
        "survived = dataset.Survived.sum()\n",
        "died = dataset.shape[0] - survived\n",
        "print(\n",
        "    f'Percentage of survived passengers: {(survived/dataset.shape[0]).round(2) * 100}%')\n",
        "print(\n",
        "    f'Percentage of died passengers: {(died/dataset.shape[0]).round(2)*100}%')"
      ]
    },
    {
      "cell_type": "markdown",
      "metadata": {},
      "source": [
        "На борту было больше мужчин, чем женщин."
      ]
    },
    {
      "cell_type": "code",
      "execution_count": 58,
      "metadata": {},
      "outputs": [
        {
          "name": "stdout",
          "output_type": "stream",
          "text": [
            "Males:  577\n",
            "Females:  314\n"
          ]
        }
      ],
      "source": [
        "male = len(dataset[dataset[\"Sex\"] == 'male'])\n",
        "female = dataset.shape[0] - male\n",
        "print(\"Males: \", male)\n",
        "print(\"Females: \", female)"
      ]
    },
    {
      "cell_type": "markdown",
      "metadata": {},
      "source": [
        "Наименее популярным портом для посадки явялется Queenstown."
      ]
    },
    {
      "cell_type": "code",
      "execution_count": 59,
      "metadata": {},
      "outputs": [
        {
          "name": "stdout",
          "output_type": "stream",
          "text": [
            "Embarked\n",
            "S    644\n",
            "C    168\n",
            "Q     77\n",
            "Name: count, dtype: int64\n",
            "The least popular port of embarkation is:  Q\n"
          ]
        }
      ],
      "source": [
        "print(dataset.Embarked.value_counts())\n",
        "print(\"The least popular port of embarkation is: \",dataset.Embarked.value_counts().idxmin())"
      ]
    },
    {
      "cell_type": "markdown",
      "metadata": {},
      "source": [
        "На титанике было 3 пассажирских класса."
      ]
    },
    {
      "cell_type": "code",
      "execution_count": 60,
      "metadata": {},
      "outputs": [
        {
          "data": {
            "text/plain": [
              "3"
            ]
          },
          "execution_count": 60,
          "metadata": {},
          "output_type": "execute_result"
        }
      ],
      "source": [
        "len(dataset.Pclass.unique())"
      ]
    },
    {
      "cell_type": "markdown",
      "metadata": {},
      "source": [
        "Общая средняя цена билета составляет ≈ 32.2, для первого класса ≈  84.15, для второго класса ≈ 20.66, для третьего ≈ 13.68"
      ]
    },
    {
      "cell_type": "code",
      "execution_count": 61,
      "metadata": {},
      "outputs": [
        {
          "name": "stdout",
          "output_type": "stream",
          "text": [
            "Average ticket fare:  32.2\n",
            "Pclass\n",
            "1    84.15\n",
            "2    20.66\n",
            "3    13.68\n",
            "Name: Fare, dtype: float64\n"
          ]
        }
      ],
      "source": [
        "print(\"Average ticket fare: \", np.round(dataset.Fare.mean(), 2))\n",
        "print(np.round(dataset.groupby(['Pclass']).Fare.mean(), 2))"
      ]
    },
    {
      "cell_type": "markdown",
      "metadata": {
        "id": "s9bfz5KbuJ4r"
      },
      "source": [
        "**Task 2** (0.5 points) <br/>\n",
        "Visualize age distribution (you may use a histogram, for example).\n",
        "\n",
        "    * What is the minimal and maximum ages of the passengers? Visualize it on the plot\n",
        "    * What is the median age? And among males and females separately? Visualize it on the separate plot\n",
        "    * Make conclusions about what you see on the plots"
      ]
    },
    {
      "cell_type": "markdown",
      "metadata": {},
      "source": [
        "Минимальный возраст пассажиров составляет 0,42, максимальный - 80."
      ]
    },
    {
      "cell_type": "code",
      "execution_count": 64,
      "metadata": {
        "id": "q19UF2SHuJ41"
      },
      "outputs": [
        {
          "name": "stdout",
          "output_type": "stream",
          "text": [
            "Minimal age:  0.42\n",
            "Maximum age:  80.0\n"
          ]
        },
        {
          "ename": "TypeError",
          "evalue": "bar() missing 1 required positional argument: 'height'",
          "output_type": "error",
          "traceback": [
            "\u001b[0;31m---------------------------------------------------------------------------\u001b[0m",
            "\u001b[0;31mTypeError\u001b[0m                                 Traceback (most recent call last)",
            "\u001b[1;32m/Users/bogdanlukancuk/Desktop/ML/HW/Luckyanchuck_hw1_2023.ipynb Ячейка 53\u001b[0m line \u001b[0;36m7\n\u001b[1;32m      <a href='vscode-notebook-cell:/Users/bogdanlukancuk/Desktop/ML/HW/Luckyanchuck_hw1_2023.ipynb#Y103sZmlsZQ%3D%3D?line=3'>4</a>\u001b[0m \u001b[39mprint\u001b[39m(\u001b[39m\"\u001b[39m\u001b[39mMaximum age: \u001b[39m\u001b[39m\"\u001b[39m, maximum_age)\n\u001b[1;32m      <a href='vscode-notebook-cell:/Users/bogdanlukancuk/Desktop/ML/HW/Luckyanchuck_hw1_2023.ipynb#Y103sZmlsZQ%3D%3D?line=5'>6</a>\u001b[0m x \u001b[39m=\u001b[39m [\u001b[39m\"\u001b[39m\u001b[39mminimal\u001b[39m\u001b[39m\"\u001b[39m, \u001b[39m\"\u001b[39m\u001b[39mmaximum\u001b[39m\u001b[39m\"\u001b[39m]\n\u001b[0;32m----> <a href='vscode-notebook-cell:/Users/bogdanlukancuk/Desktop/ML/HW/Luckyanchuck_hw1_2023.ipynb#Y103sZmlsZQ%3D%3D?line=6'>7</a>\u001b[0m plt\u001b[39m.\u001b[39;49mbar(x \u001b[39m=\u001b[39;49m dataset, label\u001b[39m=\u001b[39;49m\u001b[39m'\u001b[39;49m\u001b[39mAge\u001b[39;49m\u001b[39m'\u001b[39;49m)\n\u001b[1;32m      <a href='vscode-notebook-cell:/Users/bogdanlukancuk/Desktop/ML/HW/Luckyanchuck_hw1_2023.ipynb#Y103sZmlsZQ%3D%3D?line=7'>8</a>\u001b[0m plt\u001b[39m.\u001b[39mtitle(\u001b[39m'\u001b[39m\u001b[39mMinimal and maximum ages of the passengers\u001b[39m\u001b[39m'\u001b[39m)\n\u001b[1;32m      <a href='vscode-notebook-cell:/Users/bogdanlukancuk/Desktop/ML/HW/Luckyanchuck_hw1_2023.ipynb#Y103sZmlsZQ%3D%3D?line=8'>9</a>\u001b[0m plt\u001b[39m.\u001b[39mylabel(\u001b[39m'\u001b[39m\u001b[39mAge\u001b[39m\u001b[39m'\u001b[39m)\n",
            "\u001b[0;31mTypeError\u001b[0m: bar() missing 1 required positional argument: 'height'"
          ]
        }
      ],
      "source": [
        "minimal_age = dataset['Age'].min()\n",
        "maximum_age = dataset['Age'].max()\n",
        "print(\"Minimal age: \", minimal_age)\n",
        "print(\"Maximum age: \", maximum_age)\n",
        "\n",
        "x = [\"minimal\", \"maximum\"]\n",
        "plt.bar(x = dataset, label='Age')\n",
        "plt.title('Minimal and maximum ages of the passengers')\n",
        "plt.ylabel('Age')\n",
        "plt.xlabel('Amount of passengers')\n",
        "plt.legend()\n",
        "plt.show()"
      ]
    },
    {
      "cell_type": "markdown",
      "metadata": {},
      "source": [
        "Средний возраст среди всех пассажиров 29.7 лет, среди мужчин 30.73, среди женщин 27.92."
      ]
    },
    {
      "cell_type": "code",
      "execution_count": 133,
      "metadata": {},
      "outputs": [
        {
          "name": "stdout",
          "output_type": "stream",
          "text": [
            "Median Age:  29.7\n",
            "Male median Age:  30.73 Female median Age:  27.92\n"
          ]
        },
        {
          "data": {
            "image/png": "[encoded data removed]",
            "text/plain": [
              "<Figure size 640x480 with 1 Axes>"
            ]
          },
          "metadata": {},
          "output_type": "display_data"
        }
      ],
      "source": [
        "mean_age = dataset.Age.mean()\n",
        "print(\"Median Age: \", np.round(mean_age, 2))\n",
        "female_age, male_age = dataset.groupby(['Sex']).Age.mean()\n",
        "print(\"Male median Age: \", np.round(male_age, 2),\n",
        "      \"Female median Age: \", np.round(female_age, 2))\n",
        "\n",
        "y = [mean_age, male_age, female_age]\n",
        "x = [\"Median Age\", \"Male median Age\", \"Female median Age\"]\n",
        "plt.bar(x, y, label='Age')\n",
        "plt.title('Minimal and maximum ages of the passengers')\n",
        "plt.ylabel('Age')\n",
        "plt.legend()\n",
        "plt.show()"
      ]
    },
    {
      "cell_type": "markdown",
      "metadata": {},
      "source": []
    },
    {
      "cell_type": "markdown",
      "metadata": {
        "id": "ye6WohwXuJ41"
      },
      "source": [
        "**Task 3** (1 points) <br/>\n",
        "Find all the titles of the passengers (example, *Capt., Mr.,Mme.*), which are written in the column Name, and answer the following questions:\n",
        "\n",
        "    * How many are there unique titles?\n",
        "    * How many are there passengers with every title?\n",
        "    * What is the most popular man's title? And woman's title?\n",
        "    \n",
        "**Hint** You may select the title from the name as a word which contains a dot and is not middle name."
      ]
    },
    {
      "cell_type": "code",
      "execution_count": 63,
      "metadata": {},
      "outputs": [
        {
          "name": "stdout",
          "output_type": "stream",
          "text": [
            "Unique Titles: ['Mr.' 'Mrs.' 'Miss.' 'Master.' 'Don.' 'Rev.' 'Dr.' 'Mme.' 'Ms.' 'Major.'\n",
            " 'Lady.' 'Sir.' 'Mlle.' 'Col.' 'Capt.' 'Countess.' 'Jonkheer.']\n",
            "Passengers with every title: 17\n",
            "The most popular man's title:  Mr.\n",
            "The most popular woman's title:  Miss.\n"
          ]
        }
      ],
      "source": [
        "def convertToDict(x):\n",
        "    dictionary = {}\n",
        "    key = 'Title'\n",
        "    for i in x:\n",
        "        if i. endswith('.'):\n",
        "            value = i\n",
        "            break\n",
        "    dictionary[key] = value\n",
        "    return dictionary\n",
        "\n",
        "\n",
        "new_df = dataset.Name.str.split().apply(lambda x: convertToDict(x))\n",
        "new_df = new_df.apply(pd.Series)\n",
        "final_df = pd.concat([dataset, new_df], axis=1)\n",
        "\n",
        "print(\"Unique Titles:\", final_df.Title.unique())\n",
        "print(\"Passengers with every title:\",len(final_df.Title.unique()))\n",
        "print(\"The most popular man's title: \",final_df[final_df[\"Sex\"] == \"male\"].Title.value_counts().idxmax())\n",
        "print(\"The most popular woman's title: \",final_df[final_df[\"Sex\"] == \"female\"].Title.value_counts().idxmax())\n"
      ]
    },
    {
      "cell_type": "markdown",
      "metadata": {
        "id": "n0RsqbTPuJ41"
      },
      "source": [
        "**Task 4** (0.5 points) <br/>\n",
        "Is there correlation between *pclass* and *ticket price*? Calculate mean price for each class and visualize price distribution for each class as well. Make conclusions about what you see on the plot\n",
        "\n",
        "Hint: you could make one or several plot types i.e.  box, violine, pair, histogram (see additional notebooks for Seminar 1 \"Visualization with Seaborn\"). Main point here is to **choose** plots wisely and **make meaningful conclusions**\n",
        "\n"
      ]
    },
    {
      "cell_type": "code",
      "execution_count": 75,
      "metadata": {
        "id": "fkvVvnHPuJ41"
      },
      "outputs": [
        {
          "data": {
            "image/png": "[encoded data removed]",
            "text/plain": [
              "<Figure size 1000x800 with 1 Axes>"
            ]
          },
          "metadata": {},
          "output_type": "display_data"
        }
      ],
      "source": [
        "dataset.Pclass.corr(dataset.Fare)\n",
        "dataset.groupby(['Pclass']).Fare.mean()\n",
        "\n",
        "plt.figure(figsize=(10, 8))\n",
        "sns.boxplot(data=dataset, x='Pclass', y='Fare', showfliers=False, hue='Pclass')\n",
        "plt.show()"
      ]
    },
    {
      "cell_type": "markdown",
      "metadata": {
        "id": "UcptRilCuJ41"
      },
      "source": [
        "**Task 5** (0.5 points) <br/>\n",
        "The same question as in task 4 about correlation between *embarked* and *ticket priсe*."
      ]
    },
    {
      "cell_type": "code",
      "execution_count": null,
      "metadata": {
        "id": "biR9anS5uJ41"
      },
      "outputs": [],
      "source": [
        "# You code here"
      ]
    },
    {
      "cell_type": "markdown",
      "metadata": {
        "id": "eeKKfMOguJ41"
      },
      "source": [
        "**Task 6** (0.5 points) <br/>\n",
        "Visualize age distribution for survived and not survived passengers separately and calculate the mean age for each class. Are they different? Provide the same visualization for males and females separately. Make conclusions about what you see on the plots"
      ]
    },
    {
      "cell_type": "code",
      "execution_count": null,
      "metadata": {
        "id": "udmgFlQTuJ42"
      },
      "outputs": [],
      "source": [
        "# You code here"
      ]
    }
  ],
  "metadata": {
    "colab": {
      "provenance": []
    },
    "kernelspec": {
      "display_name": "Python 3 (ipykernel)",
      "language": "python",
      "name": "python3"
    },
    "language_info": {
      "codemirror_mode": {
        "name": "ipython",
        "version": 3
      },
      "file_extension": ".py",
      "mimetype": "text/x-python",
      "name": "python",
      "nbconvert_exporter": "python",
      "pygments_lexer": "ipython3",
      "version": "3.11.5"
    }
  },
  "nbformat": 4,
  "nbformat_minor": 0
}
