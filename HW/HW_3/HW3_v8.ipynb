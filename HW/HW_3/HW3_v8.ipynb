{
  "cells": [
    {
      "cell_type": "markdown",
      "metadata": {
        "id": "s3v5HIUdDvY5"
      },
      "source": [
        "# HSE 2023: Mathematical Methods for Data Analysis\n",
        "\n",
        "## Homework 3\n",
        "# Luckyanchuk Bogdan BSE-213\n",
        "\n",
        "**Warning 1**: some problems require (especially the lemmatization part) significant amount of time, so **it is better to start early (!)**\n",
        "\n",
        "**Warning 2**: it is critical to describe and explain what you are doing and why, use markdown cells"
      ]
    },
    {
      "cell_type": "code",
      "execution_count": null,
      "metadata": {
        "id": "F7t9dYtdDvZC"
      },
      "outputs": [],
      "source": [
        "from typing import Tuple, List\n",
        "\n",
        "import matplotlib.pyplot as plt\n",
        "import numpy as np\n",
        "import pandas as pd\n",
        "import seaborn as sns\n",
        "%matplotlib inline\n",
        "from sklearn.preprocessing import StandardScaler\n",
        "from sklearn.metrics import precision_score\n",
        "from sklearn.metrics import recall_score\n",
        "from sklearn.metrics import recall_score\n",
        "from sklearn.metrics import f1_score\n",
        "from sklearn.metrics import accuracy_score\n",
        "from sklearn.metrics import roc_auc_score\n",
        "from sklearn.metrics import confusion_matrix\n",
        "from sklearn.model_selection import train_test_split\n",
        "from sklearn.svm import SVC\n",
        "\n",
        "\n",
        "\n",
        "sns.set(style=\"darkgrid\")"
      ]
    },
    {
      "cell_type": "markdown",
      "metadata": {
        "id": "fIHtwV6vDvZD"
      },
      "source": [
        "## PART 1: Logit model"
      ]
    },
    {
      "cell_type": "markdown",
      "metadata": {
        "id": "Q7XKEWcVDvZD"
      },
      "source": [
        "We consider a binary classification problem. For prediction, we would like to use a logistic regression model. For regularization we add a combination of the $l_2$ and $l_1$ penalties (Elastic Net).\n",
        "\n",
        "Each object in the training dataset is indexed with $i$ and described by pair: features $x_i\\in\\mathbb{R}^{K}$ and binary labels $y_i$. The model parametrized with bias $w_0\\in\\mathbb{R}$ and weights $w\\in\\mathbb{R}^K$. Note: Bias is included in $w$ vector\n",
        "\n",
        "The optimization problem with respect to the $w_0, w$ is the following (Logistic loss with Elastic Net regularizers):\n",
        "\n",
        "$$L(w, w_0) = \\sum_{i=1}^{N} -y_i \\log{\\sigma{(w^\\top x_i)}} - (1 - y_i) \\log{(1 - \\sigma{(w^\\top x_i)})} + \\gamma \\|w\\|_1 + \\beta \\|w\\|_2^2$$"
      ]
    },
    {
      "cell_type": "markdown",
      "metadata": {
        "id": "j1eSuDKXFVZu"
      },
      "source": [
        "#### 1. [0.5 points]  Find the gradient of the Elastic Net loss and write its formulas (better in latex format). Remember what derivative sigmoid has (gradient in fact is a lot simpler than you may get using automatic tools like sympy, matlab or whatever)"
      ]
    },
    {
      "cell_type": "markdown",
      "metadata": {
        "id": "1zjH-YnPDvZD"
      },
      "source": [
        "##### Put your markdown formulas here"
      ]
    },
    {
      "cell_type": "markdown",
      "metadata": {},
      "source": [
        "$$\\nabla L(w, w_0) = \\frac{\\partial}{\\partial w_j}(\\sum_{i=1}^{N} -y_i \\log{\\sigma{(w^\\top x_i)}} - (1 - y_i) \\log{(1 - \\sigma{(w^\\top x_i)})}) + \\gamma \\text{sign}{(w)} + 2\\beta (w)$$\n",
        "$$\\sum_{i=1}^{N} -(\\frac{y_i}{\\sigma{(w^\\top x_i)}} -\\frac{1-y_i}{1-\\sigma{(w^\\top x_i)}})\\frac{\\partial}{\\partial w_j}\\sigma{(w^\\top x_i)} =\\sum_{i=1}^{N} -(\\frac{y_i}{\\sigma{(w^\\top x_i)}} -\\frac{1-y_i}{1-\\sigma{(w^\\top x_i)}})\\sigma{(w^\\top x_i)}(1-\\sigma{(w^\\top x_i)})x_{ij} = \\sum_{i=1}^{N}- (y_i -\\sigma{(w^\\top x_i)})x_{ij}$$\n",
        "$$\\ \\frac{\\partial}{\\partial w_j} L(w, w_0) = \\sum_{i=1}^{N}- (y_i -\\sigma{(w^\\top x_i)})x_{ij} + \\gamma \\text{sign}{(w_j)} + 2\\beta (w_j)$$"
      ]
    },
    {
      "cell_type": "markdown",
      "metadata": {
        "id": "Q_lIccN_DvZE"
      },
      "source": [
        "#### 2. [0.25 points] Implement the Elastic Net loss (as a function)"
      ]
    },
    {
      "cell_type": "code",
      "execution_count": null,
      "metadata": {},
      "outputs": [],
      "source": [
        "def sigmoid(x):\n",
        "    clipped_x = np.clip(x, -700, 700)  # Ограничиваем x, чтобы избежать переполнения\n",
        "    return 1 / (1 + np.exp(-clipped_x))"
      ]
    },
    {
      "cell_type": "code",
      "execution_count": null,
      "metadata": {
        "id": "9QNfCtV5DvZE"
      },
      "outputs": [],
      "source": [
        "def loss(X, y, w: List[float], gamma=1., beta=1.) -> float:\n",
        "    return np.dot(-y, np.log(sigmoid(X.dot(w))+1e-15))+np.dot(-(1-y), np.log((1-sigmoid(X.dot( w))+1e-15))) + gamma*np.linalg.norm(w, ord=1) + beta*np.linalg.norm(w)"
      ]
    },
    {
      "cell_type": "markdown",
      "metadata": {
        "id": "fIVoC6UmDvZE"
      },
      "source": [
        "#### 3. [0.25 points] Implement the gradient (as a function)"
      ]
    },
    {
      "cell_type": "code",
      "execution_count": null,
      "metadata": {
        "id": "HWqBLGRADvZE"
      },
      "outputs": [],
      "source": [
        "def get_grad(X, y, w: List[float], gamma=1., beta=1.) -> Tuple[List[float], float]:\n",
        "    grad_w = X.T.dot((sigmoid(X.dot( w))-y))  + \\\n",
        "        gamma*np.sign(w) + 2*beta*(w)\n",
        "    return grad_w"
      ]
    },
    {
      "cell_type": "markdown",
      "metadata": {
        "id": "BhOb8HrtDvZF"
      },
      "source": [
        "#### Check yourself"
      ]
    },
    {
      "cell_type": "code",
      "execution_count": null,
      "metadata": {
        "id": "3FxXTocHDvZF"
      },
      "outputs": [],
      "source": [
        "np.random.seed(42)\n",
        "X = np.random.multivariate_normal(np.arange(5), np.eye(5), size=10)\n",
        "X = np.c_[np.ones(X.shape[0]), X]\n",
        "y = np.random.binomial(1, 0.42, size=10)\n",
        "w = np.random.normal(size=5 + 1)\n",
        "grad_w = get_grad(X, y, w)\n",
        "assert (np.allclose(grad_w,\n",
        "                    [-3.99447493, -1.84786723,  0.64520104,\n",
        "                     1.67059973, -5.03858487, -5.21496336],\n",
        "                    rtol=1e-2)\n",
        "        )"
      ]
    },
    {
      "cell_type": "markdown",
      "metadata": {
        "id": "LbqLfcrRDvZF"
      },
      "source": [
        "####  4. [1 point]  Implement gradient descent which works for both tol level and max_iter stop criteria and plot the decision boundary of the result"
      ]
    },
    {
      "cell_type": "markdown",
      "metadata": {
        "id": "iIgiwQkjDvZF"
      },
      "source": [
        "The template provides basic sklearn API class. You are free to modify it in any convenient way."
      ]
    },
    {
      "cell_type": "code",
      "execution_count": null,
      "metadata": {
        "id": "Thyeux0KDvZG"
      },
      "outputs": [],
      "source": [
        "from sklearn.base import BaseEstimator, ClassifierMixin\n",
        "from scipy.sparse import csr_matrix, hstack\n"
      ]
    },
    {
      "cell_type": "code",
      "execution_count": null,
      "metadata": {
        "id": "4I-mPUA6YaEH"
      },
      "outputs": [],
      "source": [
        "\n",
        "class Logit(BaseEstimator, ClassifierMixin):\n",
        "    def __init__(self, beta=1.0, gamma=1.0, lr=1e-4, tolerance=1e-5, max_iter=100000, random_state=42):\n",
        "        self.beta = beta\n",
        "        self.gamma = gamma\n",
        "        self.tolerance = tolerance\n",
        "        self.max_iter = max_iter\n",
        "        self.lr = lr\n",
        "        self.random_state = random_state\n",
        "        self.w = None\n",
        "        self.loss_history = None\n",
        "        self.w0 = None\n",
        "        self.indicator_ones = False\n",
        "\n",
        "    def fit(self, X, y):\n",
        "        # add weights and bias and optimize Elastic Net loss over (X,y) dataset\n",
        "        # save history of optimization steps\n",
        "        self.loss_history = []\n",
        "        self.classes_ = np.array([0,1])\n",
        "        if not isinstance(X, csr_matrix):\n",
        "            X = csr_matrix(X)\n",
        "\n",
        "        if self.indicator_ones == False:\n",
        "            self.indicator_ones = True\n",
        "            ones_column = np.ones((X.shape[0], 1))\n",
        "            X_ones = hstack([ones_column, X])\n",
        "        if self.w0 is None:\n",
        "            self.w0 = np.random.normal(0, 1, size=X_ones.shape[1])\n",
        "            self.w = self.w0.copy()\n",
        "\n",
        "        for i in range(self.max_iter):\n",
        "            new_w = get_grad(X_ones, y, self.w, self.gamma, self.beta)\n",
        "            new_w = self.w - self.lr*new_w\n",
        "            diff = self.w - new_w\n",
        "            if np.linalg.norm(diff, ord=1) < self.tolerance:\n",
        "                break\n",
        "            self.w = new_w\n",
        "            self.loss_history.append(loss(X_ones, y, self.w, self.gamma, self.beta))\n",
        "        return self\n",
        "\n",
        "    def predict(self, X):\n",
        "        if self.w is None:\n",
        "            raise Exception('Not trained yet')\n",
        "        if not isinstance(X, csr_matrix):\n",
        "            X = csr_matrix(X)\n",
        "        ones_column = np.ones((X.shape[0], 1))\n",
        "        X_ones = hstack([ones_column, X])\n",
        "        predict = np.round(sigmoid(X_ones.dot(self.w) ))\n",
        "        return predict\n",
        "\n",
        "    def predict_proba(self, X):\n",
        "        if not isinstance(X, csr_matrix):\n",
        "            X = csr_matrix(X)\n",
        "        ones_column = np.ones((X.shape[0], 1))\n",
        "        X_ones = hstack([ones_column, X])\n",
        "        return np.array([sigmoid(X_ones.dot(self.w) ),\n",
        "                         sigmoid(-X_ones.dot(self.w))]).T"
      ]
    },
    {
      "cell_type": "code",
      "execution_count": null,
      "metadata": {
        "id": "7SJX8Y6EDvZG"
      },
      "outputs": [],
      "source": [
        "# sample data to test your model\n",
        "from sklearn.datasets import make_classification\n",
        "X, y = make_classification(n_samples=180, n_features=2, n_redundant=0, n_informative=2,\n",
        "                           random_state=42, n_clusters_per_class=1)"
      ]
    },
    {
      "cell_type": "code",
      "execution_count": null,
      "metadata": {
        "id": "u41kzwGTDvZH"
      },
      "outputs": [],
      "source": [
        "# a function to plot the decision boundary\n",
        "def plot_decision_boundary(model, X, y):\n",
        "    fig = plt.figure()\n",
        "    X1min, X2min = X.min(axis=0)\n",
        "    X1max, X2max = X.max(axis=0)\n",
        "    x1, x2 = np.meshgrid(np.linspace(X1min, X1max, 200),\n",
        "                         np.linspace(X2min, X2max, 200))\n",
        "    ypred = model.predict(np.c_[x1.ravel(), x2.ravel()])\n",
        "    ypred = ypred.reshape(x1.shape)\n",
        "\n",
        "    plt.contourf(x1, x2, ypred, alpha=.4)\n",
        "    plt.scatter(X[:, 0], X[:, 1], c=y)"
      ]
    },
    {
      "cell_type": "code",
      "execution_count": null,
      "metadata": {
        "id": "mNuYbsAoDvZI"
      },
      "outputs": [],
      "source": [
        "scaler = StandardScaler()\n",
        "X_scaled = scaler.fit_transform(X)\n",
        "\n",
        "model = Logit(0, 0)\n",
        "model.fit(X_scaled, y)\n",
        "plot_decision_boundary(model, X_scaled, y)"
      ]
    },
    {
      "cell_type": "markdown",
      "metadata": {
        "id": "Qi4WRhcADvZI"
      },
      "source": [
        "#### 5. [0.25 points] Plot loss diagram for the model, i.e. show the dependence of the loss function from the gradient descent steps"
      ]
    },
    {
      "cell_type": "code",
      "execution_count": null,
      "metadata": {
        "id": "VyjMDAKuDvZI"
      },
      "outputs": [],
      "source": [
        "plt.figure(figsize=(12, 8))\n",
        "plt.plot(model.loss_history)\n",
        "\n",
        "plt.xlabel('Количество итераций')\n",
        "plt.ylabel('Ошибка')\n",
        "plt.title('График функции ошибки по итерациям')\n",
        "\n",
        "plt.show()"
      ]
    },
    {
      "cell_type": "markdown",
      "metadata": {
        "id": "0FhSCAv_DvZJ"
      },
      "source": [
        "## PART 2: Support Vector Machines"
      ]
    },
    {
      "cell_type": "markdown",
      "metadata": {
        "id": "lYyGsSxEDvZJ"
      },
      "source": [
        "#### 6. [2 point] Using the same dataset, train SVM Classifier from Sklearn.\n",
        "Investigate how different parameters influence the quality of the solution:\n",
        "+ Try several kernels: Linear, Polynomial, RBF (and others if you wish). Some Kernels have hypermeters: don't forget to try different.\n",
        "+ Regularization coefficient\n",
        "\n",
        "Show how these parameters affect accuracy, roc_auc and f1 score.\n",
        "Make plots for the dependencies between metrics and parameters.\n",
        "Try to formulate conclusions from the observations. How sensitive are kernels to hyperparameters? How sensitive is a solution to the regularization? Which kernel is prone to overfitting?"
      ]
    },
    {
      "cell_type": "markdown",
      "metadata": {},
      "source": [
        "Разбиваем данные на тренировочную и тестовую выборки и скейлим их."
      ]
    },
    {
      "cell_type": "code",
      "execution_count": null,
      "metadata": {},
      "outputs": [],
      "source": [
        "X_train, X_test, y_train, y_test = train_test_split(\n",
        "    X, y, test_size=0.4, random_state=42)\n",
        "\n",
        "scaler = StandardScaler()\n",
        "X_train_scaled = scaler.fit_transform(X_train)\n",
        "X_test_scaled = scaler.transform(X_test)"
      ]
    },
    {
      "cell_type": "markdown",
      "metadata": {},
      "source": [
        "Зададим параметры для моделей\n"
      ]
    },
    {
      "cell_type": "code",
      "execution_count": null,
      "metadata": {},
      "outputs": [],
      "source": [
        "reg_coef = np.logspace(-2, -1, 50)\n",
        "gamma_coef = np.logspace(-3, 0, 50)\n",
        "degree_coef = list(range(2, 13))\n",
        "coef_coef = np.linspace(-100,100,50)"
      ]
    },
    {
      "cell_type": "markdown",
      "metadata": {},
      "source": [
        "Реализуем функцию для вывода граифков результатов"
      ]
    },
    {
      "cell_type": "code",
      "execution_count": null,
      "metadata": {},
      "outputs": [],
      "source": [
        "def show_res(param:[],result:dict, param_name):\n",
        "    plt.figure()\n",
        "    for key, value in result.items():\n",
        "        plt.plot(param, value, label=key, lw=2)\n",
        "    plt.xlabel('Значения метрик')\n",
        "    plt.ylabel('Значение параметра ' + param_name)\n",
        "    plt.legend()\n",
        "    plt.show()"
      ]
    },
    {
      "cell_type": "markdown",
      "metadata": {},
      "source": [
        "### Исследуем Linear kernel"
      ]
    },
    {
      "cell_type": "code",
      "execution_count": null,
      "metadata": {
        "id": "Nicu_O3IDvZK"
      },
      "outputs": [],
      "source": [
        "lin_result = {'Roc_auc': [], 'Accuracy': [], 'F1_score': []}\n",
        "\n",
        "for coef in reg_coef:\n",
        "    clf = SVC(verbose=False, probability=True, kernel='linear', C=coef)\n",
        "    clf.fit(X_train_scaled, y_train)\n",
        "    pred = clf.predict(X_test_scaled)\n",
        "    proba = clf.predict_proba(X_test_scaled)\n",
        "    lin_result['Accuracy'].append(accuracy_score(y_test, pred))\n",
        "    lin_result['F1_score'].append(f1_score(y_test, pred, average='macro'))\n",
        "    lin_result['Roc_auc'].append(roc_auc_score(y_test, proba[:, 1]))\n",
        "show_res(reg_coef, lin_result, 'C')\n"
      ]
    },
    {
      "cell_type": "markdown",
      "metadata": {},
      "source": [
        "На графике "
      ]
    },
    {
      "cell_type": "markdown",
      "metadata": {},
      "source": [
        "### Исследуем Poly kernel"
      ]
    },
    {
      "cell_type": "code",
      "execution_count": null,
      "metadata": {},
      "outputs": [],
      "source": [
        "poly_param = {'C':reg_coef, 'gamma':gamma_coef, 'coef0':coef_coef, 'degree':degree_coef}\n",
        "\n",
        "for param_name,param_coef in poly_param.items():\n",
        "    poly_result = {'Roc_auc': [], 'Accuracy': [], 'F1_score': []}\n",
        "    for coef in param_coef:\n",
        "        clf = SVC(verbose=False, probability=True, kernel='poly',**{param_name:coef})\n",
        "        clf.fit(X_train_scaled, y_train)\n",
        "        pred = clf.predict(X_test_scaled)\n",
        "        proba = clf.predict_proba(X_test_scaled)\n",
        "        poly_result['Accuracy'].append(accuracy_score(y_test, pred))\n",
        "        poly_result['F1_score'].append(f1_score(y_test, pred, average='macro'))\n",
        "        poly_result['Roc_auc'].append(roc_auc_score(y_test, proba[:, 1]))\n",
        "    show_res(param_coef, poly_result, param_name)\n"
      ]
    },
    {
      "cell_type": "markdown",
      "metadata": {},
      "source": [
        "### Исследуем RBF kernel"
      ]
    },
    {
      "cell_type": "code",
      "execution_count": null,
      "metadata": {},
      "outputs": [],
      "source": [
        "rbf_param = {'C':reg_coef, 'gamma':gamma_coef}\n",
        "\n",
        "for param_name,param_coef in rbf_param.items():\n",
        "    rbf_result = {'Roc_auc': [], 'Accuracy': [], 'F1_score': []}\n",
        "    for coef in param_coef:\n",
        "        clf = SVC(verbose=False, probability=True, kernel='rbf',**{param_name:coef})\n",
        "        clf.fit(X_train_scaled, y_train)\n",
        "        pred = clf.predict(X_test_scaled)\n",
        "        proba = clf.predict_proba(X_test_scaled)\n",
        "        rbf_result['Accuracy'].append(accuracy_score(y_test, pred))\n",
        "        rbf_result['F1_score'].append(f1_score(y_test, pred, average='macro'))\n",
        "        rbf_result['Roc_auc'].append(roc_auc_score(y_test, proba[:, 1]))\n",
        "    show_res(param_coef, rbf_result, param_name)"
      ]
    },
    {
      "cell_type": "markdown",
      "metadata": {
        "id": "sY8q6JdCDvZK"
      },
      "source": [
        "## PART 3: Natural Language Processing"
      ]
    },
    {
      "cell_type": "markdown",
      "metadata": {
        "id": "eD4xKhYfDvZK"
      },
      "source": [
        "#### 7. [1.75 point] Form the dataset\n",
        "\n",
        "We are going to form a dataset that we will use in the following tasks for binary and multiclass classification\n",
        "\n",
        "0. Choose **six** authors that you like (specify who you've chosen) and download the <a href=\"https://www.kaggle.com/d0rj3228/russian-literature?select=prose\">relevant data</a> from **prose** section\n",
        "1. Build your own dataset for these authors:\n",
        "    * divide each text into sentences such that we will have two columns: *sentence* and *target author*, each row will contain one sentence and one target\n",
        "    * drop sentences where N symbols in a sentence < 15\n",
        "    * fix random state and randomly choose sentences in the folowing proportion \"5k : 15k : 8k : 11k : 20k : 3k\" for the authors respectively\n",
        "    \n",
        "    sample data may look like:\n",
        "    \n",
        "    <center>\n",
        "    <table>\n",
        "        <tr>\n",
        "            <th> sentence </th>\n",
        "            <th> author </th>\n",
        "        </tr>\n",
        "        <tr><td> Несколько лет тому назад в одном из своих поместий жил старинный русской барин, Кирила Петрович Троекуров. </td><td> Пушкин </td><td>\n",
        "        <tr><td> Уже более недели приезжий господин жил в городе, разъезжая по вечеринкам и обедам и таким образом проводя, как говорится, очень приятно время. </td><td> Гоголь </td><td>\n",
        "        <tr><td> ... </td><td> ... </td><td>\n",
        "        <tr><td> Я жил недорослем, гоняя голубей и играя в чехарду с дворовыми мальчишками. </td><td> Пушкин </td><td>         \n",
        "    </table>\n",
        "</center>\n",
        "     \n",
        "2. Preprocess (tokenize and clean) the dataset\n",
        "    * tokenize, remove all stop words (nltk.corpus.stopwords), punctuation (string.punctuation) and numbers\n",
        "    * convert to lower case and apply either stemming or lemmatization of the words (on your choice)\n",
        "    * vectorize words using both **bag of words** and **tf-idf** (use sklearn)\n",
        "    * observe and describe the difference between vectorized output (what do numbers look like after transformations and what do they represent?)"
      ]
    },
    {
      "cell_type": "markdown",
      "metadata": {},
      "source": [
        "Для формирования данных были выбраны следующие авторы: Достоевский, Толстой, Чехов, Тургенев, Пушкин, Брюсов "
      ]
    },
    {
      "cell_type": "markdown",
      "metadata": {},
      "source": [
        "Build dataset for these authors"
      ]
    },
    {
      "cell_type": "code",
      "execution_count": null,
      "metadata": {
        "id": "NVStbeQ8DvZL"
      },
      "outputs": [],
      "source": [
        "import nltk\n",
        "import os\n",
        "import string # for work with strings\n",
        "\n",
        "authors_dir = os.listdir('Authors')\n",
        "texts = []\n",
        "authors = []\n",
        "sentences = []\n",
        "author_sentence = []\n",
        "\n",
        "# Проходим по каждой папке с авторами и перебираем текст\n",
        "for auth in authors_dir:\n",
        "    if not auth.startswith('.'):\n",
        "        for text in os.listdir(('Authors/'+auth)):\n",
        "            if not text.startswith('.'):\n",
        "                with open(os.path.join(f\"Authors/{auth}/\"+text), encoding='utf-8', mode='r') as file:\n",
        "                    texts.append(file.read())\n",
        "                    authors.append(auth)\n",
        "\n",
        "# Разбиваем полученные произведения на предложения с привязкой к автору\n",
        "sent_tokenizer = nltk.PunktSentenceTokenizer()\n",
        "for text in range(len(texts)):\n",
        "    senten = nltk.sent_tokenize((texts[text].replace(\"\\n\", \"\")),language=\"russian\")\n",
        "    senten = [sen for sen in senten if (len(sen) >= 15)]\n",
        "    sentences.extend(senten)\n",
        "    author_sentence.extend([authors[text]]*len(senten))\n",
        "\n",
        "df = pd.DataFrame({'sentences': sentences, 'author': author_sentence})\n",
        "\n",
        "# Создадим массив пропорций для разбиения данных и сортируем по убыванию, чтобы выбранные\n",
        "# пропорции были меньше количество предложений у авторов\n",
        "proportions = [5000, 15000, 8000, 11000, 20000, 3000]\n",
        "proportions.sort(reverse=True)\n",
        "\n",
        "# value_counts().index вернет список авторов в порядке количества их произведений (по убыванию)\n",
        "sampled_df = pd.DataFrame()\n",
        "for author, propotion in zip(df[\"author\"].value_counts().index,proportions):\n",
        "    sample = df[df[\"author\"] == author].sample(n=propotion,random_state=42)\n",
        "    sampled_df = pd.concat([sampled_df,sample])"
      ]
    },
    {
      "cell_type": "code",
      "execution_count": null,
      "metadata": {},
      "outputs": [],
      "source": [
        "\n",
        "print(sampled_df['author'].value_counts())"
      ]
    },
    {
      "cell_type": "markdown",
      "metadata": {},
      "source": [
        " Preprocess (tokenize and clean) the dataset"
      ]
    },
    {
      "cell_type": "code",
      "execution_count": null,
      "metadata": {},
      "outputs": [],
      "source": [
        "from nltk.stem.snowball import SnowballStemmer\n",
        "from sklearn.feature_extraction.text import CountVectorizer,TfidfVectorizer\n",
        "import re\n",
        "\n",
        "# punctuation characters\n",
        "string.punctuation\n",
        "# define stemmer\n",
        "stemmer = SnowballStemmer(\"russian\")\n",
        "# define word tokenizer\n",
        "word_tokenizer = nltk.WordPunctTokenizer()\n",
        "stop_words = nltk.corpus.stopwords.words('russian')\n",
        "\n",
        "token_sentences = []\n",
        "for sent in sampled_df['sentences'].tolist():\n",
        "    sent = sent.lower() # convert words in a text to lower case\n",
        "    sent = sent.translate(str.maketrans('','',string.punctuation))#remove punctuation\n",
        "    sent = sent.translate(str.maketrans('','',string.digits))\n",
        "    tokens     = word_tokenizer.tokenize(sent) # splits the text into tokens (words)\n",
        "    tokens = [stemmer.stem(word) for word in tokens if (word not in stop_words and not word.isdigit())]\n",
        "    token_sentences.append(' '.join(tokens))\n"
      ]
    },
    {
      "cell_type": "code",
      "execution_count": null,
      "metadata": {},
      "outputs": [],
      "source": [
        "token_df = pd.DataFrame({'sentences': token_sentences, 'author': sampled_df['author'].to_list()})\n",
        "\n",
        "vectorizer = CountVectorizer()\n",
        "vectorizer.fit(token_df['sentences'])\n",
        "bf_vector = vectorizer.transform(token_df['sentences'])\n",
        "print(bf_vector.todense()[1:2])\n",
        "\n",
        "vectorizer = TfidfVectorizer()\n",
        "vectorizer.fit(token_df['sentences'])\n",
        "tf_idf_vector = vectorizer.transform(token_df['sentences'])\n",
        "print(tf_idf_vector.todense()[1:2])"
      ]
    },
    {
      "cell_type": "markdown",
      "metadata": {},
      "source": [
        "На основе результатов работы двух методов векторизации можно увидеть, что метод CountVectorizer() формирует матрицу,где по столбцам стоят все слова из выборки, а по строкам количество вхождений данных слов в предложение. В методе TfidfVectorizer() мы видим другую ситуацию, в отличие от предыдущего метода здесь стоят числа с плавающей точкой, так как "
      ]
    },
    {
      "cell_type": "markdown",
      "metadata": {
        "id": "LuTi3rvnDvZL"
      },
      "source": [
        "###  Binary classification\n",
        "\n",
        "#### 8. [2 point] Train model using Logistic Regression (your own) and SVC (SVM can be taken from sklearn)\n",
        "\n",
        "* choose *two* authors from the dataset that you have formed in the previous task\n",
        "* check the balance of the classes\n",
        "* divide the data into train and test samples with 0.7 split rate (don't forget to fix the random state)\n",
        "* using GridSearchCV - find the best parameters for the models (by F1 score) and use it in the next tasks\n",
        "* make several plots to address the dependence between F1 score and parameters\n",
        "* plot confusion matrix for train and test samples\n",
        "* compute some relevant metrics for test sample (useful to check the seminars 5 and 6, use sklearn)\n",
        "* make conclusions about the performance of your models\n"
      ]
    },
    {
      "cell_type": "code",
      "execution_count": null,
      "metadata": {
        "id": "XZUP1HqFDvZL"
      },
      "outputs": [],
      "source": [
        "# choose two authors from the dataset that we have formed in the previous task\n",
        "position = (token_df['author'] == 'Turgenev') | (\n",
        "    token_df['author'] == 'Bryusov')\n",
        "two_authors = tf_idf_vector[position]\n",
        "two_authors_y = token_df['author'][position]\n",
        "two_authors_y = [1 if x == 'Turgenev' else 0 for x in two_authors_y]\n",
        "\n",
        "# check the balance of the classes\n",
        "print(token_df['author'][position].value_counts())\n",
        "print(\"Доля высказваний Тургенева: \", sum(\n",
        "    two_authors_y) / (two_authors).shape[0])\n",
        "print(\"Доля высказваний Брюсова: \",\n",
        "      ((two_authors).shape[0] - sum(two_authors_y)) / (two_authors).shape[0])\n",
        "\n",
        "# divide the data into train and test samples with 0.7 split rate\n",
        "train_texts, test_texts, train_y, test_y = train_test_split(two_authors, np.array(\n",
        "    two_authors_y), test_size=0.3, random_state=42, stratify=two_authors_y)"
      ]
    },
    {
      "cell_type": "markdown",
      "metadata": {},
      "source": [
        "Как мы видим, данные классы сбалансированы, так как доля числа предложений из произведений Тургенева примерно равна доле числа высказываний Брюсова."
      ]
    },
    {
      "cell_type": "code",
      "execution_count": null,
      "metadata": {},
      "outputs": [],
      "source": [
        "def show_results(test_y, pred, proba):\n",
        "    print(\"Precision: {0:6.2f}\".format(precision_score(test_y, pred, average='macro')))\n",
        "    print(\"Recall: {0:6.2f}\".format(recall_score(test_y, pred, average='macro')))\n",
        "    print(\"F1-measure: {0:6.2f}\".format(f1_score(test_y, pred, average='macro')))\n",
        "    print(\"Accuracy: {0:6.2f}\".format(accuracy_score(test_y, pred)))\n",
        "    print(\"ROC-AUC  =  {0:6.2f}\".format(roc_auc_score(test_y, proba[:,0])))\n",
        "    print('\\n')\n",
        "    labels = ['Bryusov','Turgenev']\n",
        "    sns.heatmap(data=confusion_matrix(test_y, pred), annot=True, fmt=\"d\", cbar=False, xticklabels=labels, yticklabels=labels)\n",
        "    plt.title(\"Confusion matrix \")\n",
        "    plt.show()"
      ]
    },
    {
      "cell_type": "code",
      "execution_count": null,
      "metadata": {},
      "outputs": [],
      "source": [
        "from sklearn.linear_model import LogisticRegression\n",
        "from sklearn.model_selection import GridSearchCV\n",
        "params_logit =  {'beta': np.linspace(0,1, 8),'gamma': np.linspace(0,1, 8), 'lr': np.linspace(0, 1, 8)}\n",
        "svr = Logit(max_iter=1000)\n",
        "clf = GridSearchCV(svr, params_logit, scoring = 'f1', cv=3)\n",
        "clf.fit(train_texts, train_y)"
      ]
    },
    {
      "cell_type": "code",
      "execution_count": 115,
      "metadata": {},
      "outputs": [
        {
          "name": "stdout",
          "output_type": "stream",
          "text": [
            "Best parameters:  {'beta': 0.0, 'gamma': 0.0, 'lr': 1.0}\n",
            "Precision:   0.82\n",
            "Recall:   0.82\n",
            "F1-measure:   0.82\n",
            "Accuracy:   0.83\n",
            "ROC-AUC  =    0.87\n",
            "\n",
            "\n"
          ]
        },
        {
          "data": {
            "image/png": "[encoded data removed]",
            "text/plain": [
              "<Figure size 640x480 with 1 Axes>"
            ]
          },
          "metadata": {},
          "output_type": "display_data"
        }
      ],
      "source": [
        "pred = clf.predict(test_texts)\n",
        "proba  = clf.predict_proba(test_texts)\n",
        "print('Best parameters: ', clf.best_params_)\n",
        "show_results(test_y, pred, proba)"
      ]
    },
    {
      "cell_type": "markdown",
      "metadata": {},
      "source": [
        "Найдем зависимости f1 меры от парамеров для Logit модели. Для этого проитерируемся по диапазону каждого параметра с зафиксированными лучшими другими параметрами, найденными с помошью GridSearch в предыдущем пункте "
      ]
    },
    {
      "cell_type": "code",
      "execution_count": 117,
      "metadata": {},
      "outputs": [],
      "source": [
        "def show_f1(param:[], para_res:[],param_name):\n",
        "    plt.figure()\n",
        "    plt.plot(param, para_res, label=key, lw=2)\n",
        "    plt.xlabel('Значения метрик')\n",
        "    plt.ylabel('Значение параметра ' + param_name)\n",
        "    plt.legend()\n",
        "    plt.show()"
      ]
    },
    {
      "cell_type": "code",
      "execution_count": 118,
      "metadata": {},
      "outputs": [
        {
          "ename": "SyntaxError",
          "evalue": "expression cannot contain assignment, perhaps you meant \"==\"? (1345994047.py, line 3)",
          "output_type": "error",
          "traceback": [
            "\u001b[0;36m  Cell \u001b[0;32mIn[118], line 3\u001b[0;36m\u001b[0m\n\u001b[0;31m    svr = Logit(max_iter=1000, 'beta'=beta)\u001b[0m\n\u001b[0m                               ^\u001b[0m\n\u001b[0;31mSyntaxError\u001b[0m\u001b[0;31m:\u001b[0m expression cannot contain assignment, perhaps you meant \"==\"?\n"
          ]
        }
      ],
      "source": [
        "beta_result = []\n",
        "for beta in params_logit['beta']:\n",
        "    svr = Logit(max_iter=1000, 'beta'=beta)\n",
        "    clf.fit(train_texts, train_y)\n",
        "    pred = clf.predict(test_texts)\n",
        "    beta_result.append(f1_score(test_y, pred, average='macro'))\n",
        "show_f1(params_logit['beta'],beta_result,'beta' )"
      ]
    },
    {
      "cell_type": "code",
      "execution_count": null,
      "metadata": {},
      "outputs": [],
      "source": [
        "gama_result = []\n",
        "for gama in params_logit['gama']:\n",
        "    svr = Logit(max_iter=1000, 'gama'=gama)\n",
        "    clf.fit(train_texts, train_y)\n",
        "    pred = clf.predict(test_texts)\n",
        "    gama_result.append(f1_score(test_y, pred, average='macro'))\n",
        "show_f1(params_logit['gama'],gama_result,'gama' )"
      ]
    },
    {
      "cell_type": "code",
      "execution_count": null,
      "metadata": {},
      "outputs": [],
      "source": [
        "lr_result = []\n",
        "for lr in params_logit['gama']:\n",
        "    svr = Logit(max_iter=1000, 'lr'=lr)\n",
        "    clf.fit(train_texts, train_y)\n",
        "    pred = clf.predict(test_texts)\n",
        "    lr_result.append(f1_score(test_y, pred, average='macro'))\n",
        "show_f1(params_logit['lr'],lr_result,'learning rate' )"
      ]
    },
    {
      "cell_type": "code",
      "execution_count": null,
      "metadata": {},
      "outputs": [],
      "source": [
        "parameters = {'kernel':('linear', 'rbf', 'poly', 'sigmoid'),'C':np.linspace(0.001, 1, 5),}\n",
        "clf = GridSearchCV(SVC(probability=True, verbose = False),parameters, scoring = 'f1', cv=2)\n",
        "clf.fit(train_texts, train_y)"
      ]
    },
    {
      "cell_type": "code",
      "execution_count": 116,
      "metadata": {},
      "outputs": [
        {
          "name": "stdout",
          "output_type": "stream",
          "text": [
            "{'beta': 0.0, 'gamma': 0.0, 'lr': 1.0}\n",
            "Precision:   0.82\n",
            "Recall:   0.82\n",
            "F1-measure:   0.82\n",
            "Accuracy:   0.83\n",
            "ROC-AUC  =    0.87\n",
            "\n",
            "\n"
          ]
        },
        {
          "data": {
            "image/png": "[encoded data removed]",
            "text/plain": [
              "<Figure size 640x480 with 1 Axes>"
            ]
          },
          "metadata": {},
          "output_type": "display_data"
        }
      ],
      "source": [
        "print(clf.best_params_)\n",
        "pred = clf.predict(test_texts)\n",
        "proba  = clf.predict_proba(test_texts)\n",
        "show_results(test_y, pred, proba)"
      ]
    },
    {
      "cell_type": "markdown",
      "metadata": {},
      "source": [
        "В данном задании код для поиска лучших параметров и их визуализации взят с семинара №6"
      ]
    },
    {
      "cell_type": "markdown",
      "metadata": {
        "id": "5G1kt0qbDvZL"
      },
      "source": [
        "#### 9. [1 point] Analysing ROC AUC\n",
        "\n",
        "It is possible to control the proportion of statistical errors of different types using different thresholds for choosing a class. Plot ROC curves for Logistic Regression and SVC, show the threshold on ROC curve plots. Choose such a threshold that your models have no more than 30% of false positive errors rate. Pay attention to `thresholds` parameter in sklearn roc_curve"
      ]
    },
    {
      "cell_type": "code",
      "execution_count": null,
      "metadata": {
        "id": "BZ2GZ8-uDvZL"
      },
      "outputs": [],
      "source": [
        "# your code here"
      ]
    },
    {
      "cell_type": "markdown",
      "metadata": {
        "id": "C-qubaK4DvZM"
      },
      "source": [
        "### Multiclass logit"
      ]
    },
    {
      "cell_type": "markdown",
      "metadata": {
        "id": "yJQone-LDvZM"
      },
      "source": [
        "#### 10. [1 point] Take the One-VS-One classifier (use sklearn) and apply to Logit model (one you've made in the 4th task) in order to get multiclass linear classifier\n",
        "\n",
        "*It is possible to use sklearn model instead of your own one but with a penalty of 0.5*\n",
        "\n",
        "<a href=\"https://scikit-learn.org/stable/modules/generated/sklearn.multiclass.OneVsOneClassifier.html\">OneVsOneClassifier</a>\n",
        "\n",
        "* use the data you got at the previous step for 6 authors\n",
        "* divide the data into train and test samples with 0.7 split rate\n",
        "* using GridSearchCV - find the best parameters for the models (by F1 score)\n",
        "* plot confusion matrix for train and test samples\n",
        "* compute relevant metrics for test sample (use sklearn)"
      ]
    },
    {
      "cell_type": "code",
      "execution_count": null,
      "metadata": {
        "id": "M4lR8qJ7DvZM"
      },
      "outputs": [],
      "source": [
        "# your code here"
      ]
    }
  ],
  "metadata": {
    "colab": {
      "name": "HW3_v7.ipynb",
      "provenance": []
    },
    "kernelspec": {
      "display_name": "Python 3 (ipykernel)",
      "language": "python",
      "name": "python3"
    },
    "language_info": {
      "codemirror_mode": {
        "name": "ipython",
        "version": 3
      },
      "file_extension": ".py",
      "mimetype": "text/x-python",
      "name": "python",
      "nbconvert_exporter": "python",
      "pygments_lexer": "ipython3",
      "version": "3.11.5"
    }
  },
  "nbformat": 4,
  "nbformat_minor": 0
}
